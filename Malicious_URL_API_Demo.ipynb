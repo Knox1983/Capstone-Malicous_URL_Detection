{
 "cells": [
  {
   "cell_type": "markdown",
   "id": "6f57c4ec",
   "metadata": {},
   "source": [
    "# 🔍 Malicious URL Detection – API Usage Demo\n",
    "This notebook demonstrates how to use the deployed Flask API to classify URLs as malicious or benign."
   ]
  },
  {
   "cell_type": "code",
   "execution_count": null,
   "id": "045e2f7a",
   "metadata": {},
   "outputs": [],
   "source": [
    "import requests\n",
    "import json\n",
    "\n",
    "# Replace with your actual EC2 IP address\n",
    "BASE_URL = \"http://18.119.115.24:5000\"  # Update if changed"
   ]
  },
  {
   "cell_type": "markdown",
   "id": "cb47f41c",
   "metadata": {},
   "source": [
    "## 🩺 Check API Health"
   ]
  },
  {
   "cell_type": "code",
   "execution_count": null,
   "id": "091e849b",
   "metadata": {},
   "outputs": [],
   "source": [
    "response = requests.get(f\"{BASE_URL}/health\")\n",
    "print(response.json())"
   ]
  },
  {
   "cell_type": "markdown",
   "id": "4822e3d5",
   "metadata": {},
   "source": [
    "## ℹ️ View Model Info"
   ]
  },
  {
   "cell_type": "code",
   "execution_count": null,
   "id": "2dce0b00",
   "metadata": {},
   "outputs": [],
   "source": [
    "response = requests.get(f\"{BASE_URL}/model_info\")\n",
    "print(response.json())"
   ]
  },
  {
   "cell_type": "markdown",
   "id": "6c463701",
   "metadata": {},
   "source": [
    "## 🔗 Predict a Single URL"
   ]
  },
  {
   "cell_type": "code",
   "execution_count": null,
   "id": "f0a592d0",
   "metadata": {},
   "outputs": [],
   "source": [
    "sample_url = {\"url\": \"http://example.com/login\"}\n",
    "response = requests.post(f\"{BASE_URL}/predict\", json=sample_url)\n",
    "print(response.json())"
   ]
  },
  {
   "cell_type": "markdown",
   "id": "682099f1",
   "metadata": {},
   "source": [
    "## 📦 Batch Prediction for Multiple URLs"
   ]
  },
  {
   "cell_type": "code",
   "execution_count": null,
   "id": "0e3254e3",
   "metadata": {},
   "outputs": [],
   "source": [
    "urls = {\n",
    "    \"urls\": [\n",
    "        \"http://phishingsite.fake\",\n",
    "        \"https://secure-login.net\",\n",
    "        \"https://www.google.com\"\n",
    "    ]\n",
    "}\n",
    "response = requests.post(f\"{BASE_URL}/batch_predict\", json=urls)\n",
    "print(response.json())"
   ]
  },
  {
   "cell_type": "markdown",
   "id": "6991b5cc",
   "metadata": {},
   "source": [
    "## ✅ Summary\n",
    "This notebook demonstrated the basic usage of your deployed API for predicting malicious URLs. It covered:\n",
    "- Checking API status\n",
    "- Viewing model info\n",
    "- Submitting a single URL\n",
    "- Submitting a batch of URLs"
   ]
  }
 ],
 "metadata": {},
 "nbformat": 4,
 "nbformat_minor": 5
}